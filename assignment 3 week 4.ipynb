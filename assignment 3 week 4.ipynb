{
 "cells": [
  {
   "cell_type": "code",
   "execution_count": 1,
   "id": "76ecd22a-dd19-4df3-97bd-8ea03a09847f",
   "metadata": {},
   "outputs": [],
   "source": [
    "              #answer 1"
   ]
  },
  {
   "cell_type": "code",
   "execution_count": 2,
   "id": "d3efd941-0caf-4f40-9536-c16e22032c50",
   "metadata": {},
   "outputs": [],
   "source": [
    "#Abstraction in python is defined as a process of handling complexity by hiding unnecessary information from the user. \n",
    "#This is one of the core concepts of object-oriented programming (OOP) languages\n",
    "\n",
    "import abc\n",
    "class pwskill():\n",
    "    \n",
    "    @abc.abstractmethod\n",
    "    def student_details(self):\n",
    "        pass\n",
    "    \n",
    "    @abc.abstractmethod\n",
    "    def assignment(self):\n",
    "        pass\n",
    "    \n",
    "    @abc.abstractmethod\n",
    "    def student_marks(self):\n",
    "        pass"
   ]
  },
  {
   "cell_type": "code",
   "execution_count": 3,
   "id": "4f147ffb-9331-4a25-ae10-a3deda232045",
   "metadata": {},
   "outputs": [],
   "source": [
    "           #answer:-2"
   ]
  },
  {
   "cell_type": "code",
   "execution_count": 4,
   "id": "ada23ab9-e8b4-4689-aa6b-8807b696bd55",
   "metadata": {},
   "outputs": [],
   "source": [
    "#Abstraction is a process of hiding the implementation details of a system from the user, and only the functional details will be available to the user end.\n",
    "#On the other hand, Encapsulation is a method of wrapping up the data and code acting on the data into a single unit."
   ]
  },
  {
   "cell_type": "code",
   "execution_count": 5,
   "id": "e1c903ce-9633-4f51-bafc-90af9f6e22ff",
   "metadata": {},
   "outputs": [
    {
     "name": "stdout",
     "output_type": "stream",
     "text": [
      "Woof!\n",
      "Meow!\n"
     ]
    }
   ],
   "source": [
    "#example of abstraction\n",
    "from abc import ABC, abstractmethod\n",
    "\n",
    "class Animal(ABC):\n",
    "    @abstractmethod\n",
    "    def make_sound(self):\n",
    "        pass\n",
    "\n",
    "class Dog(Animal):\n",
    "    def make_sound(self):\n",
    "        print(\"Woof!\")\n",
    "\n",
    "class Cat(Animal):\n",
    "    def make_sound(self):\n",
    "        print(\"Meow!\")\n",
    "\n",
    "dog = Dog()\n",
    "dog.make_sound()  # Output: Woof!\n",
    "\n",
    "cat = Cat()\n",
    "cat.make_sound()  # Output: Meow!\n"
   ]
  },
  {
   "cell_type": "code",
   "execution_count": 6,
   "id": "de79819f-1d1d-48ab-8b5e-4c4d16175d89",
   "metadata": {},
   "outputs": [
    {
     "name": "stdout",
     "output_type": "stream",
     "text": [
      "Toyota\n",
      "Camry\n",
      "100\n",
      "Car is driving...\n",
      "90\n",
      "100\n"
     ]
    }
   ],
   "source": [
    "#example of encapsulation\n",
    "class Car:\n",
    "    def __init__(self, brand, model):\n",
    "        self._brand = brand  # Protected attribute\n",
    "        self._model = model  # Protected attribute\n",
    "        self._fuel_level = 100  # Protected attribute\n",
    "\n",
    "    def get_brand(self):\n",
    "        return self._brand\n",
    "\n",
    "    def get_model(self):\n",
    "        return self._model\n",
    "\n",
    "    def get_fuel_level(self):\n",
    "        return self._fuel_level\n",
    "\n",
    "    def refuel(self):\n",
    "        self._fuel_level = 100\n",
    "\n",
    "    def drive(self):\n",
    "        if self._fuel_level > 0:\n",
    "            print(\"Car is driving...\")\n",
    "            self._fuel_level -= 10\n",
    "        else:\n",
    "            print(\"Out of fuel. Refuel the car.\")\n",
    "\n",
    "car = Car(\"Toyota\", \"Camry\")\n",
    "print(car.get_brand())  # Output: Toyota\n",
    "print(car.get_model())  # Output: Camry\n",
    "print(car.get_fuel_level())  # Output: 100\n",
    "\n",
    "car.drive()  # Output: Car is driving...\n",
    "print(car.get_fuel_level())  # Output: 90\n",
    "\n",
    "car.refuel()\n",
    "print(car.get_fuel_level())  # Output: 100\n"
   ]
  },
  {
   "cell_type": "code",
   "execution_count": 7,
   "id": "a77ddfd0-cea9-4fa9-9b16-74b2761a8d68",
   "metadata": {},
   "outputs": [],
   "source": [
    "            #answer:-3"
   ]
  },
  {
   "cell_type": "code",
   "execution_count": 8,
   "id": "c9bc259a-54ec-4420-b897-b91674500557",
   "metadata": {},
   "outputs": [],
   "source": [
    "#The abc module is used for creating abstract classes and interfaces by utilizing the concept of abstraction in object-oriented programming. It allows you to define a common set of methods that subclasses must implement, providing a contract for the expected behavior of derived classes"
   ]
  },
  {
   "cell_type": "code",
   "execution_count": 9,
   "id": "fcb495ff-5be4-4ed1-b7e5-35841fb5f2f6",
   "metadata": {},
   "outputs": [],
   "source": [
    "          #ANSWER:-4"
   ]
  },
  {
   "cell_type": "code",
   "execution_count": 10,
   "id": "c207f9ca-aa95-47b4-904c-75f7270f4431",
   "metadata": {},
   "outputs": [],
   "source": [
    "#data abstraction can be achieved by using classes and applying the principles of encapsulation"
   ]
  },
  {
   "cell_type": "code",
   "execution_count": 11,
   "id": "f87c339a-b4ae-4ec4-b6cc-cc9def049b67",
   "metadata": {},
   "outputs": [],
   "source": [
    "          #ANSWER:-5"
   ]
  },
  {
   "cell_type": "code",
   "execution_count": 12,
   "id": "c2b8b1bc-d28e-4731-b544-15e45e5a27b5",
   "metadata": {},
   "outputs": [],
   "source": [
    "#No, we cannot create an instance of an abstract class in Python. Abstract classes are designed to be incomplete and serve as blueprints for other classes to inherit from. They cannot be instantiated directly because they often contain abstract methods that need to be implemented by their subclasses"
   ]
  },
  {
   "cell_type": "code",
   "execution_count": 13,
   "id": "ad4a8262-e838-4b84-9228-c19770a75a67",
   "metadata": {},
   "outputs": [
    {
     "ename": "TypeError",
     "evalue": "Can't instantiate abstract class AbstractClass with abstract method abstract_method",
     "output_type": "error",
     "traceback": [
      "\u001b[0;31m---------------------------------------------------------------------------\u001b[0m",
      "\u001b[0;31mTypeError\u001b[0m                                 Traceback (most recent call last)",
      "Cell \u001b[0;32mIn[13], line 8\u001b[0m\n\u001b[1;32m      4\u001b[0m     \u001b[38;5;129m@abstractmethod\u001b[39m\n\u001b[1;32m      5\u001b[0m     \u001b[38;5;28;01mdef\u001b[39;00m \u001b[38;5;21mabstract_method\u001b[39m(\u001b[38;5;28mself\u001b[39m):\n\u001b[1;32m      6\u001b[0m         \u001b[38;5;28;01mpass\u001b[39;00m\n\u001b[0;32m----> 8\u001b[0m instance \u001b[38;5;241m=\u001b[39m \u001b[43mAbstractClass\u001b[49m\u001b[43m(\u001b[49m\u001b[43m)\u001b[49m  \u001b[38;5;66;03m# Raises TypeError: Can't instantiate abstract class AbstractClass with abstract methods abstract_method\u001b[39;00m\n",
      "\u001b[0;31mTypeError\u001b[0m: Can't instantiate abstract class AbstractClass with abstract method abstract_method"
     ]
    }
   ],
   "source": [
    "from abc import ABC, abstractmethod\n",
    "\n",
    "class AbstractClass(ABC):\n",
    "    @abstractmethod\n",
    "    def abstract_method(self):\n",
    "        pass\n",
    "\n",
    "instance = AbstractClass()  # Raises TypeError: Can't instantiate abstract class AbstractClass with abstract methods abstract_method\n"
   ]
  },
  {
   "cell_type": "code",
   "execution_count": null,
   "id": "22423630-7186-464e-88d5-0e70899bc375",
   "metadata": {},
   "outputs": [],
   "source": []
  }
 ],
 "metadata": {
  "kernelspec": {
   "display_name": "Python 3 (ipykernel)",
   "language": "python",
   "name": "python3"
  },
  "language_info": {
   "codemirror_mode": {
    "name": "ipython",
    "version": 3
   },
   "file_extension": ".py",
   "mimetype": "text/x-python",
   "name": "python",
   "nbconvert_exporter": "python",
   "pygments_lexer": "ipython3",
   "version": "3.10.8"
  }
 },
 "nbformat": 4,
 "nbformat_minor": 5
}
